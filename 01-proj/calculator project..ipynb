{
 "cells": [
  {
   "cell_type": "code",
   "execution_count": null,
   "id": "5d3655da",
   "metadata": {},
   "outputs": [],
   "source": [
    "rom tkinter import Tk, Entry, Button, StringVar\n",
    "\n",
    "class Calculator:\n",
    "    def __init__(self,master):\n",
    "        master.title(\"Calculator\")\n",
    "        master.geometry(\"357x420+0+0\")\n",
    "        master.config(bg='gray')\n",
    "        master.resizable(False,False)\n",
    "        \n",
    "        self.equation = StringVar()\n",
    "        self.entry_value=''\n",
    "        Entry(width=17,bg='#fff',font=('Arial Bold',28),textvariable=self.equation).place(x=0,y=0)\n",
    "        \n",
    "        Button(width=11,height=4,text='(',relief='flat',bg='white',command=lambda:self.show('(')).place(x=0,y=50)\n",
    "        Button(width=11,height=4,text=')',relief='flat',bg='white',command=lambda:self.show(')')).place(x=90,y=50)\n",
    "        Button(width=11,height=4,text='%',relief='flat',bg='white',command=lambda:self.show('%')).place(x=180,y=50)  \n",
    "        Button(width=11,height=4,text='1',relief='flat',bg='white',command=lambda:self.show(1)).place(x=0,y=125)  \n",
    "        Button(width=11,height=4,text='2',relief='flat',bg='white',command=lambda:self.show(2)).place(x=90,y=125)\n",
    "        Button(width=11,height=4,text='3',relief='flat',bg='white',command=lambda:self.show(3)).place(x=180,y=125)\n",
    "        Button(width=11,height=4,text='4',relief='flat',bg='white',command=lambda:self.show(4)).place(x=0,y=200)  \n",
    "        Button(width=11,height=4,text='5',relief='flat',bg='white',command=lambda:self.show(5)).place(x=90,y=200)\n",
    "        Button(width=11,height=4,text='6',relief='flat',bg='white',command=lambda:self.show(6)).place(x=180,y=200)\n",
    "        Button(width=11,height=4,text='7',relief='flat',bg='white',command=lambda:self.show(7)).place(x=0,y=275)   \n",
    "        Button(width=11,height=4,text='8',relief='flat',bg='white',command=lambda:self.show(8)).place(x=90,y=275)\n",
    "        Button(width=11,height=4,text='9',relief='flat',bg='white',command=lambda:self.show(9)).place(x=180,y=275)\n",
    "        Button(width=11,height=4,text='0',relief='flat',bg='white',command=lambda:self.show(0)).place(x=90,y=350)   \n",
    "        Button(width=11,height=4,text='.',relief='flat',bg='white',command=lambda:self.show('.')).place(x=180,y=350)\n",
    "        Button(width=11,height=4,text='+',relief='flat',bg='white',command=lambda:self.show('+')).place(x=270,y=275)\n",
    "        Button(width=11,height=4,text='-',relief='flat',bg='white',command=lambda:self.show('-')).place(x=270,y=200)\n",
    "        Button(width=11,height=4,text='/',relief='flat',bg='white',command=lambda:self.show('/')).place(x=270,y=50)\n",
    "        Button(width=11,height=4,text='X',relief='flat',bg='white',command=lambda:self.show('*')).place(x=270,y=125)\n",
    "        Button(width=11,height=4,text='=',relief='flat',bg='white',command=self.solve).place(x=270, y=350)\n",
    "        Button(width=11,height=4,text='C',relief='flat',command=self.clear).place(x=0,y=350)\n",
    "      \n",
    "        \n",
    "               \n",
    "    def show(self,value):\n",
    "        self.entry_value+=str(value)\n",
    "        self.equation.set(self.entry_value)\n",
    "        \n",
    "    def clear(self):\n",
    "        self.entry_value= ''\n",
    "        self.equation.set(self.entry_value)\n",
    "        \n",
    "    def solve(self):\n",
    "        result=eval(self.entry_value)\n",
    "        self.equation.set(result)\n",
    "         \n",
    "         \n",
    "        \n",
    "root=Tk()\n",
    "Calculator=Calculator(root)\n",
    "root.mainloop()"
   ]
  }
 ],
 "metadata": {
  "kernelspec": {
   "display_name": "Python 3 (ipykernel)",
   "language": "python",
   "name": "python3"
  },
  "language_info": {
   "codemirror_mode": {
    "name": "ipython",
    "version": 3
   },
   "file_extension": ".py",
   "mimetype": "text/x-python",
   "name": "python",
   "nbconvert_exporter": "python",
   "pygments_lexer": "ipython3",
   "version": "3.9.12"
  }
 },
 "nbformat": 4,
 "nbformat_minor": 5
}
